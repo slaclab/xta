{
 "cells": [
  {
   "cell_type": "markdown",
   "metadata": {},
   "source": [
    "# Simple XTA Simulation Example: field1.dcm"
   ]
  },
  {
   "cell_type": "markdown",
   "metadata": {},
   "source": [
    "## Simulation Setup"
   ]
  },
  {
   "cell_type": "code",
   "execution_count": 1,
   "metadata": {},
   "outputs": [],
   "source": [
    "%matplotlib widget\n",
    "import os, sys\n",
    "from xta.xta import xta_sim"
   ]
  },
  {
   "cell_type": "markdown",
   "metadata": {},
   "source": [
    "#### Setting Astra Path"
   ]
  },
  {
   "cell_type": "code",
   "execution_count": 2,
   "metadata": {},
   "outputs": [],
   "source": [
    "#Possible generalization for environment dependency path\n",
    "os.environ['ASTRA_BIN'] = os.getenv('ASTRA_BIN')\n",
    "#print(os.getenv('ASTRA_BIN'))"
   ]
  },
  {
   "cell_type": "code",
   "execution_count": 3,
   "metadata": {},
   "outputs": [],
   "source": [
    "#Edit this line to match your path if the above cell doesn't work\n",
    "#%env ASTRA_BIN=/Users/colinrecker/Desktop/SLACForks/Astra"
   ]
  },
  {
   "cell_type": "markdown",
   "metadata": {},
   "source": [
    "#### Setting Simulation Directory Path"
   ]
  },
  {
   "cell_type": "code",
   "execution_count": 4,
   "metadata": {},
   "outputs": [],
   "source": [
    "#Define xta repo path\n",
    "xta_path = '/Users/colinrecker/Desktop/SLACForks/xta'\n",
    "os.chdir(xta_path)\n",
    "\n",
    "#Define simulations directory path\n",
    "sim_path = '/Users/colinrecker/Google Drive/My Drive/Colin/Simulations'\n",
    "\n",
    "#Defining tumor scan path and scrape name of file\n",
    "init_dcm_path = os.path.join(sim_path, 'inputs', 'Fluence Maps Anon', 'Field 3 Anon', 'field3.dcm')\n",
    "\n",
    "#Defining vcc laser images path\n",
    "vcc_path = os.path.join(sim_path, 'inputs', 'laser_mat_images', '*.mat')\n",
    "\n",
    "field1 = xta_sim(xta_path, sim_path, init_dcm_path, vcc_path)"
   ]
  },
  {
   "cell_type": "markdown",
   "metadata": {},
   "source": [
    "### Generating Initial Electron Distribution"
   ]
  },
  {
   "cell_type": "code",
   "execution_count": 5,
   "metadata": {},
   "outputs": [],
   "source": [
    "#Configuring distribution settings (distgen.yaml file)\n",
    "field1.dist.input['n_particle'] = int(1e4)\n",
    "fwhm = 0.06/2.355 # 60 fs = 0.06 ps\n",
    "field1.dist.input['t_dist']['sigma_t']['value'] = fwhm\n",
    "\n",
    "#Generating distribution with first index of laser images\n",
    "particles, dist = field1.generate_dist(0)"
   ]
  },
  {
   "cell_type": "markdown",
   "metadata": {},
   "source": [
    "## Run Simulation"
   ]
  },
  {
   "cell_type": "markdown",
   "metadata": {},
   "source": [
    "### Configure Astra"
   ]
  },
  {
   "cell_type": "code",
   "execution_count": 6,
   "metadata": {},
   "outputs": [],
   "source": [
    "#Adjusting astra inputs (xta.in file)\n",
    "field1.astra.input['newrun']['zstart']=0.0\n",
    "field1.astra.input['newrun']['zstop'] = 0.25\n",
    "field1.astra.input['charge']['lspch'] = True\n",
    "field1.astra.input['newrun']['zphase'] = 50\n",
    "field1.astra.input['solenoid']['maxb(1)'] = 0.427"
   ]
  },
  {
   "cell_type": "markdown",
   "metadata": {},
   "source": [
    "### Run continuous scan to specific precision"
   ]
  },
  {
   "cell_type": "code",
   "execution_count": null,
   "metadata": {},
   "outputs": [],
   "source": [
    "#Scanning \n",
    "field1.simulation('cont_scan', ['solenoid', 'maxb(1)'], range=[0.38, 0.45], divisions=5, precision=3)\n",
    "print(field1.opt_val)\n",
    "\n",
    "#Archive simulation with desired .h5 file name\n",
    "field1.archive(f'B={field1.astra.input[\"solenoid\"][\"maxb(1)\"]}')"
   ]
  },
  {
   "cell_type": "markdown",
   "metadata": {},
   "source": [
    "## Plots"
   ]
  },
  {
   "cell_type": "markdown",
   "metadata": {},
   "source": [
    "### Comparative Electron Distribution Plots"
   ]
  },
  {
   "cell_type": "markdown",
   "metadata": {},
   "source": [
    "#### Initial vs. Final Distribution"
   ]
  },
  {
   "cell_type": "code",
   "execution_count": null,
   "metadata": {},
   "outputs": [],
   "source": [
    "field1.plot('initial_vs_final')"
   ]
  },
  {
   "cell_type": "markdown",
   "metadata": {},
   "source": [
    "#### Initial vs. Rotated Final Distribution"
   ]
  },
  {
   "cell_type": "code",
   "execution_count": null,
   "metadata": {},
   "outputs": [],
   "source": [
    "field1.plot('initial_vs_rotated')"
   ]
  },
  {
   "cell_type": "markdown",
   "metadata": {},
   "source": [
    "### Movie"
   ]
  },
  {
   "cell_type": "code",
   "execution_count": null,
   "metadata": {},
   "outputs": [],
   "source": [
    "field1.movie()"
   ]
  }
 ],
 "metadata": {
  "kernelspec": {
   "display_name": "Python 3.8.13 ('SLAC')",
   "language": "python",
   "name": "python3"
  },
  "language_info": {
   "codemirror_mode": {
    "name": "ipython",
    "version": 3
   },
   "file_extension": ".py",
   "mimetype": "text/x-python",
   "name": "python",
   "nbconvert_exporter": "python",
   "pygments_lexer": "ipython3",
   "version": "3.8.13"
  },
  "orig_nbformat": 4,
  "vscode": {
   "interpreter": {
    "hash": "6c58c64d71ff03ed58a5a60eb518d74c326f0baf896481c551d83d64162bf060"
   }
  }
 },
 "nbformat": 4,
 "nbformat_minor": 2
}
